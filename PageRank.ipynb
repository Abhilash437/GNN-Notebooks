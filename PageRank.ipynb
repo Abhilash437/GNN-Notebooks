{
  "nbformat": 4,
  "nbformat_minor": 0,
  "metadata": {
    "colab": {
      "provenance": [],
      "authorship_tag": "ABX9TyPS7fZvXG/n2CVJoE9E4VCW",
      "include_colab_link": true
    },
    "kernelspec": {
      "name": "python3",
      "display_name": "Python 3"
    },
    "language_info": {
      "name": "python"
    }
  },
  "cells": [
    {
      "cell_type": "markdown",
      "metadata": {
        "id": "view-in-github",
        "colab_type": "text"
      },
      "source": [
        "<a href=\"https://colab.research.google.com/github/Abhilash437/GNN-Notebooks/blob/main/PageRank.ipynb\" target=\"_parent\"><img src=\"https://colab.research.google.com/assets/colab-badge.svg\" alt=\"Open In Colab\"/></a>"
      ]
    },
    {
      "cell_type": "code",
      "source": [
        "!pip install scikit-network"
      ],
      "metadata": {
        "colab": {
          "base_uri": "https://localhost:8080/"
        },
        "id": "QQuxuXE08s1l",
        "outputId": "92585e16-da56-48c2-b235-cc36768e0364"
      },
      "execution_count": 3,
      "outputs": [
        {
          "output_type": "stream",
          "name": "stdout",
          "text": [
            "Collecting scikit-network\n",
            "  Downloading scikit_network-0.33.1-cp311-cp311-manylinux_2_17_x86_64.manylinux2014_x86_64.whl.metadata (4.4 kB)\n",
            "Requirement already satisfied: numpy>=1.22.4 in /usr/local/lib/python3.11/dist-packages (from scikit-network) (1.26.4)\n",
            "Requirement already satisfied: scipy>=1.7.3 in /usr/local/lib/python3.11/dist-packages (from scikit-network) (1.13.1)\n",
            "Downloading scikit_network-0.33.1-cp311-cp311-manylinux_2_17_x86_64.manylinux2014_x86_64.whl (8.1 MB)\n",
            "\u001b[2K   \u001b[90m━━━━━━━━━━━━━━━━━━━━━━━━━━━━━━━━━━━━━━━━\u001b[0m \u001b[32m8.1/8.1 MB\u001b[0m \u001b[31m41.2 MB/s\u001b[0m eta \u001b[36m0:00:00\u001b[0m\n",
            "\u001b[?25hInstalling collected packages: scikit-network\n",
            "Successfully installed scikit-network-0.33.1\n"
          ]
        }
      ]
    },
    {
      "cell_type": "code",
      "execution_count": 4,
      "metadata": {
        "id": "WR2rXjeU68oE"
      },
      "outputs": [],
      "source": [
        "import sknetwork as skn\n",
        "import numpy as np\n",
        "from typing import Tuple, List\n",
        "from IPython.display import SVG"
      ]
    },
    {
      "cell_type": "code",
      "source": [
        "edges = [(\"A\", \"B\"), (\"B\", \"D\"), (\"D\", \"C\"), (\"D\", \"E\"), (\"E\", \"F\"), (\"F\", \"A\"), (\"A\", \"F\")]\n",
        "\n",
        "graph = skn.data.from_edge_list(edges, directed = True)"
      ],
      "metadata": {
        "id": "X_P3UVJh9TGL"
      },
      "execution_count": 9,
      "outputs": []
    },
    {
      "cell_type": "code",
      "source": [
        "image = skn.visualization.graphs.visualize_graph(adjacency = graph.adjacency, names = graph.names, name_position=\"above\")\n",
        "SVG(image)"
      ],
      "metadata": {
        "colab": {
          "base_uri": "https://localhost:8080/",
          "height": 373
        },
        "id": "d3D1XJfh9wnb",
        "outputId": "28fc3ecf-fabc-4449-9bf1-84327d1e927a"
      },
      "execution_count": 10,
      "outputs": [
        {
          "output_type": "execute_result",
          "data": {
            "text/plain": [
              "<IPython.core.display.SVG object>"
            ],
            "image/svg+xml": "<svg xmlns=\"http://www.w3.org/2000/svg\" width=\"452.0\" height=\"352\">\n<defs><marker id=\"arrow-gray\" markerWidth=\"10\" markerHeight=\"10\" refX=\"9\" refY=\"3\" orient=\"auto\">\n<path d=\"M0,0 L0,6 L9,3 z\" fill=\"gray\"/></marker></defs>\n<path stroke-width=\"1\" stroke=\"gray\" d=\"M 426 120 333 236\" marker-end=\"url(#arrow-gray)\"/>\n<path stroke-width=\"1\" stroke=\"gray\" d=\"M 426 120 361 37\" marker-end=\"url(#arrow-gray)\"/>\n<path stroke-width=\"1\" stroke=\"gray\" d=\"M 329 241 165 239\" marker-end=\"url(#arrow-gray)\"/>\n<path stroke-width=\"1\" stroke=\"gray\" d=\"M 159 239 31 329\" marker-end=\"url(#arrow-gray)\"/>\n<path stroke-width=\"1\" stroke=\"gray\" d=\"M 159 239 204 89\" marker-end=\"url(#arrow-gray)\"/>\n<path stroke-width=\"1\" stroke=\"gray\" d=\"M 206 83 351 34\" marker-end=\"url(#arrow-gray)\"/>\n<path stroke-width=\"1\" stroke=\"gray\" d=\"M 357 32 422 115\" marker-end=\"url(#arrow-gray)\"/>\n<circle cx=\"426\" cy=\"120\" r=\"7.0\" style=\"fill:gray;stroke:black;stroke-width:1.0\"/>\n<circle cx=\"329\" cy=\"241\" r=\"7.0\" style=\"fill:gray;stroke:black;stroke-width:1.0\"/>\n<circle cx=\"26\" cy=\"332\" r=\"7.0\" style=\"fill:gray;stroke:black;stroke-width:1.0\"/>\n<circle cx=\"159\" cy=\"239\" r=\"7.0\" style=\"fill:gray;stroke:black;stroke-width:1.0\"/>\n<circle cx=\"206\" cy=\"83\" r=\"7.0\" style=\"fill:gray;stroke:black;stroke-width:1.0\"/>\n<circle cx=\"357\" cy=\"32\" r=\"7.0\" style=\"fill:gray;stroke:black;stroke-width:1.0\"/>\n<text text-anchor=\"middle\" x=\"426\" y=\"110\" font-size=\"12\">A</text><text text-anchor=\"middle\" x=\"329\" y=\"231\" font-size=\"12\">B</text><text text-anchor=\"middle\" x=\"26\" y=\"322\" font-size=\"12\">C</text><text text-anchor=\"middle\" x=\"159\" y=\"229\" font-size=\"12\">D</text><text text-anchor=\"middle\" x=\"206\" y=\"73\" font-size=\"12\">E</text><text text-anchor=\"middle\" x=\"357\" y=\"22\" font-size=\"12\">F</text></svg>"
          },
          "metadata": {},
          "execution_count": 10
        }
      ]
    },
    {
      "cell_type": "code",
      "source": [
        "class Graph(object):\n",
        "\n",
        "  def __init__(self, edges: List[Tuple]) -> None:\n",
        "    nodes = set()\n",
        "    in_degrees = {}\n",
        "    out_degrees = {}\n",
        "    for edge in edges:\n",
        "      nodes.update(list(edge))\n",
        "      src, dst = edge\n",
        "      try:\n",
        "        out_degrees[src] += 1\n",
        "      except:\n",
        "        out_degrees[src] = 1\n",
        "      try:\n",
        "        in_degrees[dst] += 1\n",
        "      except:\n",
        "        in_degrees[dst] = 1\n",
        "\n",
        "    nodes = list(nodes)\n",
        "    nodes.sort()\n",
        "    self.edges = edges\n",
        "    self.nodes = nodes\n",
        "    self.in_degrees = in_degrees\n",
        "    self.out_degrees = out_degrees\n",
        "    self.num_nodes = len(nodes)\n",
        "    self.num_edges = len(edges)\n",
        "\n",
        "  def build_adjacency(self) -> np.array:\n",
        "    O = np.zeros((self.num_nodes, self.num_nodes))\n",
        "    for edge in self.edges:\n",
        "      src, dst = edge\n",
        "      O[self.nodes.index(dst), self.nodes.index(src)] += 1\n",
        "    return O\n",
        "\n",
        "  def build_out_degree_matrix(self) -> np.array:\n",
        "    D = np.zeros((self.num_nodes, self.num_nodes))\n",
        "    for node in self.nodes:\n",
        "      try:\n",
        "        D[self.nodes.index(node), self.nodes.index(node)] = 1/self.out_degrees[node]\n",
        "      except:\n",
        "        pass\n",
        "    return D\n",
        "\n",
        "  def get_modified_adjacency(self) -> np.array:\n",
        "    return self.build_adjacency() @ self.build_out_degree_matrix()\n",
        "\n",
        "  def get_edges(self) -> List[Tuple]:\n",
        "    return self.edges\n",
        "\n",
        "  def get_nodes(self) -> List:\n",
        "    return self.nodes\n",
        "\n",
        "  def get_in_degrees(self) -> dict:\n",
        "    return self.in_degrees\n",
        "\n",
        "  def get_out_degrees(self) -> dict:\n",
        "    return self.out_degrees\n",
        "\n",
        "  def get_num_nodes(self) -> int:\n",
        "    return self.num_nodes\n",
        "\n",
        "  def get_num_edges(self) -> int:\n",
        "    return self.num_edges"
      ],
      "metadata": {
        "id": "hfmT5s8B-RmT"
      },
      "execution_count": 11,
      "outputs": []
    },
    {
      "cell_type": "code",
      "source": [
        "class PageRank(object):\n",
        "\n",
        "  def __init__(self, damping_factor: float = 0.9, epsilon: float = 1e-8) -> None:\n",
        "    self.damping_factor = damping_factor\n",
        "    self.epsilon = epsilon\n",
        "\n",
        "  def init_page_rank(self, graph: Graph) -> np.array:\n",
        "    return np.ones((graph.get_num_nodes(), 1)) / graph.get_num_nodes()\n",
        "\n",
        "  def identity_vector(self, graph: Graph) -> np.array:\n",
        "    return np.ones((graph.get_num_nodes(), 1))\n",
        "\n",
        "  def update_page_rank(self, P1: np.array, I: np.array, graph: Graph) -> np.array:\n",
        "    P2 = (\n",
        "        self.damping_factor * (graph.get_modified_adjacency() @ P1)\n",
        "        + (1 - self.damping_factor) * I/graph.get_num_nodes()\n",
        "    )\n",
        "    return P2\n",
        "\n",
        "  def evaluate(self, graph: Graph) -> dict:\n",
        "    nodes = graph.get_nodes()\n",
        "    P1 = self.init_page_rank(graph)\n",
        "    I = self.identity_vector(graph)\n",
        "    P2 = self.update_page_rank(P1, I, graph)\n",
        "    while np.linalg.norm(P2 - P1) >= self.epsilon:\n",
        "      P1 = P2\n",
        "      P2 = self.update_page_rank(P1, I, graph)\n",
        "    page_ranks = {}\n",
        "    for node, rank in zip(nodes, P2.flatten()):\n",
        "      page_ranks[node] = rank\n",
        "    return page_ranks"
      ],
      "metadata": {
        "id": "8j9hRKsDBC2N"
      },
      "execution_count": 12,
      "outputs": []
    },
    {
      "cell_type": "code",
      "source": [
        "graph = Graph(edges)\n",
        "pr = PageRank()\n",
        "ranks = pr.evaluate(graph)\n",
        "\n",
        "ranks"
      ],
      "metadata": {
        "colab": {
          "base_uri": "https://localhost:8080/"
        },
        "id": "wjPryHp5Ct5q",
        "outputId": "376f4b44-7308-4e45-a561-2dbdcaaa3934"
      },
      "execution_count": 13,
      "outputs": [
        {
          "output_type": "execute_result",
          "data": {
            "text/plain": [
              "{'A': 0.12675911960522362,\n",
              " 'B': 0.07370827299621358,\n",
              " 'C': 0.05401851997791911,\n",
              " 'D': 0.08300411511415294,\n",
              " 'E': 0.05401851997791911,\n",
              " 'F': 0.12232494263254401}"
            ]
          },
          "metadata": {},
          "execution_count": 13
        }
      ]
    },
    {
      "cell_type": "code",
      "source": [
        "from sknetwork.ranking import PageRank"
      ],
      "metadata": {
        "id": "jA5hWwJLC1_5"
      },
      "execution_count": 14,
      "outputs": []
    },
    {
      "cell_type": "code",
      "source": [
        "graph = skn.data.from_edge_list(edges, directed = True)\n",
        "adjacency = graph.adjacency\n",
        "page_rank = PageRank(damping_factor = 0.9, tol = 1e-8)\n",
        "ranks = page_rank.fit_predict(adjacency)\n",
        "ranks"
      ],
      "metadata": {
        "colab": {
          "base_uri": "https://localhost:8080/"
        },
        "id": "YADh_P7ZC5bv",
        "outputId": "82ae7669-9e5d-4e21-b675-ff5561308e56"
      },
      "execution_count": 19,
      "outputs": [
        {
          "output_type": "execute_result",
          "data": {
            "text/plain": [
              "array([0.21001094, 0.12342979, 0.24441885, 0.13461955, 0.08308759,\n",
              "       0.20443328])"
            ]
          },
          "metadata": {},
          "execution_count": 19
        }
      ]
    }
  ]
}